{
 "cells": [
  {
   "cell_type": "markdown",
   "metadata": {},
   "source": [
    "# Summary:\n",
    "- Linked nodes, with values and pointers in one (Single-linked-list) or both (Double-linked-list) directions.  \n",
    "- Useful for dynamic memory allocation (size of input is unknown in advance)  \n",
    "- Insertion can be faster than with lists, but access to middle of structure can take longer\n",
    "\n",
    "### Sections\n",
    "1. Basics\n",
    "2. Applications\n",
    "3. Operations (traversal, insertion, deletion)\n",
    "4. Operational complexity\n",
    "5. Example: Reverse Linked List\n",
    "6. Example: Singly-Linked List implementation\n",
    "\n",
    "### Leetcode summary chapter with practice problems  \n",
    "https://leetcode.com/explore/learn/card/linked-list/"
   ]
  },
  {
   "cell_type": "markdown",
   "metadata": {},
   "source": [
    "# Basics:  \n",
    "### Single-linked-list\n",
    "![single.png](img/single.png)  \n",
    "From https://leetcode.com/explore/learn/card/linked-list/"
   ]
  },
  {
   "cell_type": "code",
   "execution_count": null,
   "metadata": {},
   "outputs": [],
   "source": [
    "class MySingleNode(object):\n",
    "    \n",
    "    def __init__(self, val, next_node=None):\n",
    "        self.val = val\n",
    "        self.next = next_node"
   ]
  },
  {
   "cell_type": "markdown",
   "metadata": {},
   "source": [
    "### Double-linked-list\n",
    "![double.png](img/double.png)  \n",
    "From https://leetcode.com/explore/learn/card/linked-list/"
   ]
  },
  {
   "cell_type": "code",
   "execution_count": null,
   "metadata": {},
   "outputs": [],
   "source": [
    "class MyDoubleNode(object):\n",
    "    \n",
    "    def __init__(self, val, next_node=None, prev_node=None):\n",
    "        self.val = val\n",
    "        self.next = next_node\n",
    "        self.prev = prev_node"
   ]
  },
  {
   "cell_type": "markdown",
   "metadata": {},
   "source": [
    "### Sentinel Nodes  \n",
    "- Dummy nodes to represent head and/or tail. \n",
    "- Make it easier to perform a lot of operations, simplify edge cases\n",
    "- Don't even have to be nodes! Just have next/prev pointers"
   ]
  },
  {
   "cell_type": "markdown",
   "metadata": {},
   "source": [
    "# Applications: \n",
    "- Implementing stacks, queues, graphs (adjacency list)  \n",
    "- Python OrderedDict and deque use double-linked lists  \n",
    "https://github.com/python/cpython/blob/master/Lib/collections/__init__.py  \n",
    "https://github.com/python/cpython/blob/master/Modules/_collectionsmodule.c  \n",
    "- Undo functionality (e.g. keep LL of states for Word, Photoshop, or LL of urls for browser back button)\n",
    "- LRU, LFU caches (see David Starkebaum's code)  \n",
    "https://github.com/dstarkebaum/leetcode/tree/master/caching  "
   ]
  },
  {
   "cell_type": "markdown",
   "metadata": {},
   "source": [
    "# Operations (traversal, insertion, deletion):"
   ]
  },
  {
   "cell_type": "markdown",
   "metadata": {},
   "source": [
    "### Traversal  "
   ]
  },
  {
   "cell_type": "code",
   "execution_count": null,
   "metadata": {},
   "outputs": [],
   "source": [
    "def getNodeAtIndex(index):\n",
    "    cur = head\n",
    "    for _ in range(index + 1):\n",
    "        cur = cur.next\n",
    "    return cur"
   ]
  },
  {
   "cell_type": "markdown",
   "metadata": {},
   "source": [
    "![LinkedListTraversal2.gif](img/LinkedListTraversal2.gif)"
   ]
  },
  {
   "cell_type": "code",
   "execution_count": null,
   "metadata": {},
   "outputs": [],
   "source": [
    "# Alternative - insert node into sorted list\n",
    "# Traverse until condition is met\n",
    "def insertNodeIntoSorted(node):\n",
    "    # Traversal\n",
    "    cur = head.next\n",
    "    prev = head\n",
    "    while cur and cur.val <= node.val:\n",
    "        prev = cur\n",
    "        cur = cur.next\n",
    "        \n",
    "    # Insertion (will insert node after prev)\n",
    "    insertAfterNode(prev, node)"
   ]
  },
  {
   "cell_type": "markdown",
   "metadata": {},
   "source": [
    "### Insert Node (single)"
   ]
  },
  {
   "cell_type": "code",
   "execution_count": null,
   "metadata": {},
   "outputs": [],
   "source": [
    "def insertSingleNode(val):\n",
    "    cur = MyNode(val)\n",
    "    # get previous node\n",
    "    cur.next = prev.next\n",
    "    prev.next = cur"
   ]
  },
  {
   "cell_type": "markdown",
   "metadata": {},
   "source": [
    "![insertSingleNode2.gif](img/insertSingleNode2.gif)"
   ]
  },
  {
   "cell_type": "markdown",
   "metadata": {},
   "source": [
    "### Insert Node (double)"
   ]
  },
  {
   "cell_type": "code",
   "execution_count": null,
   "metadata": {},
   "outputs": [],
   "source": [
    "def insertDoubleNode(val):\n",
    "    cur = MyNode(val)\n",
    "    # get previous node\n",
    "    cur.next = prev.next\n",
    "    cur.prev = prev\n",
    "    prev.next.prev = cur\n",
    "    prev.next = cur"
   ]
  },
  {
   "cell_type": "markdown",
   "metadata": {},
   "source": [
    "![insertDoubleNode.gif](img/insertDoubleNode.gif)"
   ]
  },
  {
   "cell_type": "markdown",
   "metadata": {},
   "source": [
    "### Delete Node (single)"
   ]
  },
  {
   "cell_type": "code",
   "execution_count": null,
   "metadata": {},
   "outputs": [],
   "source": [
    "def deleteNodeAtIndex(index):\n",
    "    cur = getNodeAtIndex(index - 1)\n",
    "\n",
    "    cur.next = cur.next.next"
   ]
  },
  {
   "cell_type": "markdown",
   "metadata": {},
   "source": [
    "![deleteSingleNode2.gif](img/deleteSingleNode2.gif)"
   ]
  },
  {
   "cell_type": "markdown",
   "metadata": {},
   "source": [
    "### Delete Node (double)"
   ]
  },
  {
   "cell_type": "code",
   "execution_count": null,
   "metadata": {},
   "outputs": [],
   "source": [
    "def deleteDoubleNodeAtIndex(index):\n",
    "    cur = getNodeAtIndex(index)\n",
    "\n",
    "    cur.next.prev = cur.prev\n",
    "    cur.prev.next = cur.next"
   ]
  },
  {
   "cell_type": "markdown",
   "metadata": {},
   "source": [
    "![deleteDoubleNode.gif](img/deleteDoubleNode.gif)"
   ]
  },
  {
   "cell_type": "markdown",
   "metadata": {},
   "source": [
    "# Operational complexity:  \n",
    "\n",
    "Function | Singly-linked list |      Doubly-linked list\n",
    "- | --- | ----\n",
    "addToHead | O(1) | O(1)\n",
    "addToTail | O(n) or O(1)? | O(1)\n",
    "addToIndex(k) | O(k) | O(min(k, n-k))\n",
    "getValAtIndex(k) | O(k) | O(min(k, n-k))\n",
    "deleteAtHead | O(1) | O(1)\n",
    "deleteAtTail | O(n) | O(1)\n",
    "deleteAtIndex(k) | O(k) | O(min(k, n-k))"
   ]
  },
  {
   "cell_type": "markdown",
   "metadata": {},
   "source": [
    "# Reverse Linked List  \n",
    "https://leetcode.com/problems/reverse-linked-list/  \n",
    "![reverseLinkedList.gif](img/reverseLinkedList.gif)"
   ]
  },
  {
   "cell_type": "markdown",
   "metadata": {},
   "source": [
    "# Single-Linked-List implementation"
   ]
  },
  {
   "cell_type": "code",
   "execution_count": 1,
   "metadata": {},
   "outputs": [],
   "source": [
    "# From https://leetcode.com/problems/design-linked-list/\n",
    "\n",
    "class MyNode(object):\n",
    "    \n",
    "    def __init__(self, val, next_node=None):\n",
    "        self.val = val\n",
    "        self.next = next_node\n",
    "        \n",
    "\n",
    "class MyLinkedList(object):\n",
    "\n",
    "    def __init__(self):\n",
    "        \"\"\"\n",
    "        Initialize your data structure here.\n",
    "        \"\"\"\n",
    "        self.head = MyNode('H')\n",
    "        self.size = 0\n",
    "\n",
    "    \n",
    "    def fetchNode(self, index):\n",
    "        if index > self.size - 1:\n",
    "            return None\n",
    "\n",
    "        curr = self.head\n",
    "        pos = -1\n",
    "        while pos < index:\n",
    "            curr = curr.next\n",
    "            pos += 1\n",
    "\n",
    "        return curr\n",
    "        \n",
    "\n",
    "    def get(self, index):\n",
    "        \"\"\"\n",
    "        Get the value of the index-th node in the linked list. If the index is invalid, return -1.\n",
    "        :type index: int\n",
    "        :rtype: int\n",
    "        \"\"\"\n",
    "        node = self.fetchNode(index)\n",
    "        if not node:\n",
    "            return -1\n",
    "        else:\n",
    "            return node.val\n",
    "        \n",
    "\n",
    "    def addAtHead(self, val):\n",
    "        \"\"\"\n",
    "        Add a node of value val before the first element of the linked list. After the insertion, the new node will be the first node of the linked list.\n",
    "        :type val: int\n",
    "        :rtype: None\n",
    "        \"\"\"\n",
    "        self.addAtIndex(0, val)\n",
    "        \n",
    "\n",
    "    def addAtTail(self, val):\n",
    "        \"\"\"\n",
    "        Append a node of value val to the last element of the linked list.\n",
    "        :type val: int\n",
    "        :rtype: None\n",
    "        \"\"\"\n",
    "        self.addAtIndex(self.size, val)\n",
    "        \n",
    "\n",
    "    def addAtIndex(self, index, val):\n",
    "        \"\"\"\n",
    "        Add a node of value val before the index-th node in the linked list. If index equals to the length of linked list, the node will be appended to the end of linked list. If index is greater than the length, the node will not be inserted.\n",
    "        :type index: int\n",
    "        :type val: int\n",
    "        :rtype: None\n",
    "        \"\"\"\n",
    "        curr = self.fetchNode(index - 1)\n",
    "        if curr:\n",
    "            newNode = MyNode(val)\n",
    "            newNode.next = curr.next\n",
    "            curr.next = newNode\n",
    "            self.size += 1\n",
    "\n",
    "\n",
    "    def deleteAtIndex(self, index):\n",
    "        \"\"\"\n",
    "        Delete the index-th node in the linked list, if the index is valid.\n",
    "        :type index: int\n",
    "        :rtype: None\n",
    "        \"\"\"\n",
    "        curr = self.fetchNode(index - 1)\n",
    "        \n",
    "        # Check curr.next in case index was equal to size.\n",
    "        # - Then curr.next would be None and curr.next.next would error\n",
    "        if curr and curr.next:\n",
    "            curr.next = curr.next.next\n",
    "            self.size -= 1\n",
    "        \n",
    "\n",
    "    def printLinkedList(self):\n",
    "        curr = self.head\n",
    "\n",
    "        output = ''\n",
    "        while curr:\n",
    "            output += '({})-'.format(curr.val)\n",
    "            curr = curr.next\n",
    "\n",
    "        output += '(T)'\n",
    "        print(output)"
   ]
  },
  {
   "cell_type": "code",
   "execution_count": 2,
   "metadata": {},
   "outputs": [
    {
     "name": "stdout",
     "output_type": "stream",
     "text": [
      "(H)-(T)\n"
     ]
    }
   ],
   "source": [
    "obj = MyLinkedList()\n",
    "obj.printLinkedList()"
   ]
  },
  {
   "cell_type": "code",
   "execution_count": 3,
   "metadata": {},
   "outputs": [
    {
     "name": "stdout",
     "output_type": "stream",
     "text": [
      "(H)-(1)-(T)\n"
     ]
    }
   ],
   "source": [
    "obj.addAtHead(1)\n",
    "obj.printLinkedList()"
   ]
  },
  {
   "cell_type": "code",
   "execution_count": 4,
   "metadata": {},
   "outputs": [
    {
     "name": "stdout",
     "output_type": "stream",
     "text": [
      "(H)-(1)-(3)-(T)\n"
     ]
    }
   ],
   "source": [
    "obj.addAtTail(3)\n",
    "obj.printLinkedList()"
   ]
  },
  {
   "cell_type": "code",
   "execution_count": 5,
   "metadata": {},
   "outputs": [
    {
     "name": "stdout",
     "output_type": "stream",
     "text": [
      "(H)-(1)-(2)-(3)-(T)\n"
     ]
    }
   ],
   "source": [
    "obj.addAtIndex(1,2)\n",
    "obj.printLinkedList()"
   ]
  },
  {
   "cell_type": "code",
   "execution_count": 6,
   "metadata": {},
   "outputs": [
    {
     "name": "stdout",
     "output_type": "stream",
     "text": [
      "2\n",
      "(H)-(1)-(2)-(3)-(T)\n"
     ]
    }
   ],
   "source": [
    "print(obj.get(1))\n",
    "obj.printLinkedList()"
   ]
  },
  {
   "cell_type": "code",
   "execution_count": 7,
   "metadata": {},
   "outputs": [
    {
     "name": "stdout",
     "output_type": "stream",
     "text": [
      "(H)-(1)-(3)-(T)\n"
     ]
    }
   ],
   "source": [
    "obj.deleteAtIndex(1)\n",
    "obj.printLinkedList()"
   ]
  },
  {
   "cell_type": "code",
   "execution_count": 8,
   "metadata": {},
   "outputs": [
    {
     "name": "stdout",
     "output_type": "stream",
     "text": [
      "3\n",
      "(H)-(1)-(3)-(T)\n"
     ]
    }
   ],
   "source": [
    "print(obj.get(1))\n",
    "obj.printLinkedList()"
   ]
  },
  {
   "cell_type": "code",
   "execution_count": null,
   "metadata": {},
   "outputs": [],
   "source": []
  }
 ],
 "metadata": {
  "kernelspec": {
   "display_name": "Python 3",
   "language": "python",
   "name": "python3"
  },
  "language_info": {
   "codemirror_mode": {
    "name": "ipython",
    "version": 3
   },
   "file_extension": ".py",
   "mimetype": "text/x-python",
   "name": "python",
   "nbconvert_exporter": "python",
   "pygments_lexer": "ipython3",
   "version": "3.6.8"
  }
 },
 "nbformat": 4,
 "nbformat_minor": 2
}
